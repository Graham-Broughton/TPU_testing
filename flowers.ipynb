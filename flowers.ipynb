{
 "cells": [
  {
   "cell_type": "code",
   "execution_count": 1,
   "metadata": {
    "colab": {
     "base_uri": "https://localhost:8080/"
    },
    "executionInfo": {
     "elapsed": 3043,
     "status": "ok",
     "timestamp": 1651419761443,
     "user": {
      "displayName": "graham broughton",
      "userId": "15728648374086258761"
     },
     "user_tz": 420
    },
    "id": "_yReHmGKxJNl",
    "outputId": "22bcdf5c-a852-439c-cb07-105279d02c30"
   },
   "outputs": [
    {
     "name": "stdout",
     "output_type": "stream",
     "text": [
      "Tensorflow version 2.8.0\n"
     ]
    }
   ],
   "source": [
    "import re, time\n",
    "import tensorflow as tf\n",
    "import numpy as np\n",
    "from matplotlib import pyplot as plt\n",
    "print(\"Tensorflow version \" + tf.__version__)\n",
    "AUTOTUNE = tf.data.AUTOTUNE"
   ]
  },
  {
   "cell_type": "code",
   "execution_count": null,
   "metadata": {
    "id": "hB_rcIKYVGeG"
   },
   "outputs": [],
   "source": [
    "try: # detect TPUs\n",
    "    tpu = tf.distribute.cluster_resolver.TPUClusterResolver.connect()\n",
    "    strategy = tf.distribute.TPUStrategy(tpu)\n",
    "except ValueError: # detect GPUs\n",
    "    strategy = tf.distribute.MirroredStrategy()\n",
    "    #strategy = tf.distribute.get_strategy() # default strategy that works on CPU and single GPU\n",
    "    #strategy = tf.distribute.experimental.MultiWorkerMirroredStrategy() # for clusters of multi-GPU machines\n",
    "\n",
    "MIXED_PRECISION = True\n",
    "if MIXED_PRECISION:\n",
    "    if tpu: \n",
    "        policy = tf.keras.mixed_precision.Policy('mixed_bfloat16')\n",
    "        tf.config.optimizer.set_jit(True)\n",
    "    else: #\n",
    "        policy = tf.keras.mixed_precision.Policy('mixed_float16')\n",
    "        tf.config.optimizer.set_jit(True) # XLA compilation\n",
    "    tf.keras.mixed_precision.set_global_policy(policy)\n",
    "    print('Mixed precision enabled')"
   ]
  },
  {
   "cell_type": "code",
   "execution_count": 24,
   "metadata": {
    "executionInfo": {
     "elapsed": 168,
     "status": "ok",
     "timestamp": 1651422009968,
     "user": {
      "displayName": "graham broughton",
      "userId": "15728648374086258761"
     },
     "user_tz": 420
    },
    "id": "e_REDuBrxVbB"
   },
   "outputs": [],
   "source": [
    "EPOCHS = 10\n",
    "IMAGE_SIZE = [224, 224]\n",
    "\n",
    "FLOWERS_DATASETS = { # available image sizes\n",
    "    192: 'gs://flowers-public/tfrecords-jpeg-192x192-2/*.tfrec',\n",
    "    224: 'gs://flowers-public/tfrecords-jpeg-224x224/*.tfrec',\n",
    "    331: 'gs://flowers-public/tfrecords-jpeg-331x331/*.tfrec',\n",
    "    512: 'gs://flowers-public/tfrecords-jpeg-512x512/*.tfrec'\n",
    "}\n",
    "CLASSES = ['daisy', 'dandelion', 'roses', 'sunflowers', 'tulips'] # do not change, maps to the labels in the data (folder names)\n",
    "assert IMAGE_SIZE[0] == IMAGE_SIZE[1], \"only square images are supported\"\n",
    "assert IMAGE_SIZE[0] in FLOWERS_DATASETS, \"this image size is not supported\""
   ]
  },
  {
   "cell_type": "code",
   "execution_count": 5,
   "metadata": {
    "executionInfo": {
     "elapsed": 38,
     "status": "ok",
     "timestamp": 1651419823931,
     "user": {
      "displayName": "graham broughton",
      "userId": "15728648374086258761"
     },
     "user_tz": 420
    },
    "id": "rl8GLXMexwzK"
   },
   "outputs": [],
   "source": [
    "# batch and learning rate settings\n",
    "if strategy.num_replicas_in_sync == 8: # TPU or 8xGPU\n",
    "    BATCH_SIZE = 16 * strategy.num_replicas_in_sync * 2\n",
    "    VALIDATION_BATCH_SIZE = 16 * strategy.num_replicas_in_sync * 2\n",
    "    start_lr = 0.00001\n",
    "    min_lr = 0.00001\n",
    "    max_lr = 0.00005 * strategy.num_replicas_in_sync\n",
    "    rampup_epochs = 5\n",
    "    sustain_epochs = 0\n",
    "    exp_decay = .8\n",
    "elif strategy.num_replicas_in_sync == 1: # single GPU\n",
    "    BATCH_SIZE = 16\n",
    "    VALIDATION_BATCH_SIZE = 16\n",
    "    start_lr = 0.00001\n",
    "    min_lr = 0.00001\n",
    "    max_lr = 0.0002\n",
    "    rampup_epochs = 5\n",
    "    sustain_epochs = 0\n",
    "    exp_decay = .8\n",
    "else: # TPU pod\n",
    "    BATCH_SIZE = 8 * strategy.num_replicas_in_sync * 2\n",
    "    VALIDATION_BATCH_SIZE = 8 * strategy.num_replicas_in_sync * 2\n",
    "    start_lr = 0.00001\n",
    "    min_lr = 0.00001\n",
    "    max_lr = 0.00002 * strategy.num_replicas_in_sync\n",
    "    rampup_epochs = 7\n",
    "    sustain_epochs = 0\n",
    "    exp_decay = .8"
   ]
  },
  {
   "cell_type": "code",
   "execution_count": 7,
   "metadata": {
    "colab": {
     "base_uri": "https://localhost:8080/",
     "height": 282
    },
    "executionInfo": {
     "elapsed": 41,
     "status": "ok",
     "timestamp": 1651419823935,
     "user": {
      "displayName": "graham broughton",
      "userId": "15728648374086258761"
     },
     "user_tz": 420
    },
    "id": "XVm-ynoix1vi",
    "outputId": "367b4aad-865c-4cbb-db83-3abe87f6eb7d"
   },
   "outputs": [
    {
     "name": "stdout",
     "output_type": "stream",
     "text": [
      "1e-05 0.00011223616000000004\n"
     ]
    },
    {
     "data": {
      "image/png": "[encoded data removed]",
      "text/plain": [
       "<Figure size 432x288 with 1 Axes>"
      ]
     },
     "metadata": {
      "needs_background": "light"
     },
     "output_type": "display_data"
    }
   ],
   "source": [
    "lr_callback = tf.keras.callbacks.LearningRateScheduler(lambda epoch: lrfn(epoch), verbose=True)\n",
    "\n",
    "rng = [i for i in range(EPOCHS)]\n",
    "y = [lrfn(x) for x in rng]\n",
    "plt.plot(rng, [lrfn(x) for x in rng])\n",
    "print(y[0], y[-1])"
   ]
  },
  {
   "cell_type": "code",
   "execution_count": 25,
   "metadata": {
    "colab": {
     "base_uri": "https://localhost:8080/"
    },
    "executionInfo": {
     "elapsed": 131,
     "status": "ok",
     "timestamp": 1651422026302,
     "user": {
      "displayName": "graham broughton",
      "userId": "15728648374086258761"
     },
     "user_tz": 420
    },
    "id": "HQtVGM_ayNRS",
    "outputId": "566bd4bf-c6f5-4c77-de3d-16365953b9f6"
   },
   "outputs": [
    {
     "name": "stdout",
     "output_type": "stream",
     "text": [
      "TRAINING IMAGES:  2990 , STEPS PER EPOCH:  11\n",
      "VALIDATION IMAGES:  680\n"
     ]
    }
   ],
   "source": [
    "gcs_pattern = FLOWERS_DATASETS[IMAGE_SIZE[0]]\n",
    "validation_split = 0.19\n",
    "filenames = tf.io.gfile.glob(gcs_pattern)\n",
    "split = len(filenames) - int(len(filenames) * validation_split)\n",
    "TRAIN_FILENAMES = filenames[:split]\n",
    "VALID_FILENAMES = filenames[split:]\n",
    "TRAIN_STEPS = count_data_items(TRAIN_FILENAMES) // BATCH_SIZE\n",
    "print(\"TRAINING IMAGES: \", count_data_items(TRAIN_FILENAMES), \", STEPS PER EPOCH: \", TRAIN_STEPS)\n",
    "print(\"VALIDATION IMAGES: \", count_data_items(VALID_FILENAMES))"
   ]
  },
  {
   "cell_type": "code",
   "execution_count": 27,
   "metadata": {
    "colab": {
     "base_uri": "https://localhost:8080/",
     "height": 1000
    },
    "collapsed": true,
    "executionInfo": {
     "elapsed": 596777,
     "status": "ok",
     "timestamp": 1651422766619,
     "user": {
      "displayName": "graham broughton",
      "userId": "15728648374086258761"
     },
     "user_tz": 420
    },
    "id": "34xOgcaxP8Iu",
    "jupyter": {
     "outputs_hidden": true
    },
    "outputId": "4bfe551c-f1fe-4bc4-a068-2c8ab86e33bb",
    "tags": []
   },
   "outputs": [
    {
     "name": "stdout",
     "output_type": "stream",
     "text": [
      "\n",
      "Epoch 1: LearningRateScheduler setting learning rate to 1e-05.\n",
      "Epoch 1/10\n",
      "186/186 [==============================] - 56s 303ms/step - loss: 1.4872 - accuracy: 0.3589 - lr: 1.0000e-05\n",
      "\n",
      "Epoch 2: LearningRateScheduler setting learning rate to 8.8e-05.\n",
      "Epoch 2/10\n",
      "186/186 [==============================] - 3s 15ms/step - loss: 1.0035 - accuracy: 0.6391 - lr: 8.8000e-05\n",
      "\n",
      "Epoch 3: LearningRateScheduler setting learning rate to 0.000166.\n",
      "Epoch 3/10\n",
      "186/186 [==============================] - 3s 15ms/step - loss: 0.7973 - accuracy: 0.7298 - lr: 1.6600e-04\n",
      "\n",
      "Epoch 4: LearningRateScheduler setting learning rate to 0.000244.\n",
      "Epoch 4/10\n",
      "186/186 [==============================] - 3s 15ms/step - loss: 0.6376 - accuracy: 0.7782 - lr: 2.4400e-04\n",
      "\n",
      "Epoch 5: LearningRateScheduler setting learning rate to 0.000322.\n",
      "Epoch 5/10\n",
      "186/186 [==============================] - 3s 15ms/step - loss: 0.4946 - accuracy: 0.8293 - lr: 3.2200e-04\n",
      "\n",
      "Epoch 6: LearningRateScheduler setting learning rate to 0.0004.\n",
      "Epoch 6/10\n",
      "186/186 [==============================] - 3s 14ms/step - loss: 0.4691 - accuracy: 0.8327 - lr: 4.0000e-04\n",
      "\n",
      "Epoch 7: LearningRateScheduler setting learning rate to 0.000322.\n",
      "Epoch 7/10\n",
      "186/186 [==============================] - 3s 15ms/step - loss: 0.3508 - accuracy: 0.8757 - lr: 3.2200e-04\n",
      "\n",
      "Epoch 8: LearningRateScheduler setting learning rate to 0.0002596000000000001.\n",
      "Epoch 8/10\n",
      "186/186 [==============================] - 3s 14ms/step - loss: 0.2805 - accuracy: 0.9062 - lr: 2.5960e-04\n",
      "\n",
      "Epoch 9: LearningRateScheduler setting learning rate to 0.00020968000000000004.\n",
      "Epoch 9/10\n",
      "186/186 [==============================] - 3s 14ms/step - loss: 0.2367 - accuracy: 0.9190 - lr: 2.0968e-04\n",
      "\n",
      "Epoch 10: LearningRateScheduler setting learning rate to 0.00016974400000000002.\n",
      "Epoch 10/10\n",
      "186/186 [==============================] - 3s 14ms/step - loss: 0.1830 - accuracy: 0.9358 - lr: 1.6974e-04\n",
      "1/1 [==============================] - 9s 9s/step - loss: 0.1469 - accuracy: 0.9375\n",
      "Validation accuracy:  0.9375\n",
      "\n",
      "Epoch 1: LearningRateScheduler setting learning rate to 1e-05.\n",
      "Epoch 1/10\n",
      "93/93 [==============================] - 55s 594ms/step - loss: 1.4778 - accuracy: 0.3750 - lr: 1.0000e-05\n",
      "\n",
      "Epoch 2: LearningRateScheduler setting learning rate to 8.8e-05.\n",
      "Epoch 2/10\n",
      "93/93 [==============================] - 2s 27ms/step - loss: 0.7882 - accuracy: 0.7050 - lr: 8.8000e-05\n",
      "\n",
      "Epoch 3: LearningRateScheduler setting learning rate to 0.000166.\n",
      "Epoch 3/10\n",
      "93/93 [==============================] - 2s 26ms/step - loss: 0.5600 - accuracy: 0.7977 - lr: 1.6600e-04\n",
      "\n",
      "Epoch 4: LearningRateScheduler setting learning rate to 0.000244.\n",
      "Epoch 4/10\n",
      "93/93 [==============================] - 3s 28ms/step - loss: 0.4692 - accuracy: 0.8367 - lr: 2.4400e-04\n",
      "\n",
      "Epoch 5: LearningRateScheduler setting learning rate to 0.000322.\n",
      "Epoch 5/10\n",
      "93/93 [==============================] - 3s 27ms/step - loss: 0.4308 - accuracy: 0.8474 - lr: 3.2200e-04\n",
      "\n",
      "Epoch 6: LearningRateScheduler setting learning rate to 0.0004.\n",
      "Epoch 6/10\n",
      "93/93 [==============================] - 2s 26ms/step - loss: 0.3830 - accuracy: 0.8616 - lr: 4.0000e-04\n",
      "\n",
      "Epoch 7: LearningRateScheduler setting learning rate to 0.000322.\n",
      "Epoch 7/10\n",
      "93/93 [==============================] - 2s 27ms/step - loss: 0.3001 - accuracy: 0.8975 - lr: 3.2200e-04\n",
      "\n",
      "Epoch 8: LearningRateScheduler setting learning rate to 0.0002596000000000001.\n",
      "Epoch 8/10\n",
      "93/93 [==============================] - 2s 26ms/step - loss: 0.2224 - accuracy: 0.9284 - lr: 2.5960e-04\n",
      "\n",
      "Epoch 9: LearningRateScheduler setting learning rate to 0.00020968000000000004.\n",
      "Epoch 9/10\n",
      "93/93 [==============================] - 2s 26ms/step - loss: 0.1575 - accuracy: 0.9489 - lr: 2.0968e-04\n",
      "\n",
      "Epoch 10: LearningRateScheduler setting learning rate to 0.00016974400000000002.\n",
      "Epoch 10/10\n",
      "93/93 [==============================] - 2s 27ms/step - loss: 0.1356 - accuracy: 0.9519 - lr: 1.6974e-04\n",
      "1/1 [==============================] - 10s 10s/step - loss: 0.5825 - accuracy: 0.9375\n",
      "Validation accuracy:  0.9375\n",
      "\n",
      "Epoch 1: LearningRateScheduler setting learning rate to 1e-05.\n",
      "Epoch 1/10\n",
      "46/46 [==============================] - 55s 1s/step - loss: 1.5978 - accuracy: 0.3234 - lr: 1.0000e-05\n",
      "\n",
      "Epoch 2: LearningRateScheduler setting learning rate to 8.8e-05.\n",
      "Epoch 2/10\n",
      "46/46 [==============================] - 2s 47ms/step - loss: 0.6955 - accuracy: 0.7534 - lr: 8.8000e-05\n",
      "\n",
      "Epoch 3: LearningRateScheduler setting learning rate to 0.000166.\n",
      "Epoch 3/10\n",
      "46/46 [==============================] - 2s 47ms/step - loss: 0.4221 - accuracy: 0.8492 - lr: 1.6600e-04\n",
      "\n",
      "Epoch 4: LearningRateScheduler setting learning rate to 0.000244.\n",
      "Epoch 4/10\n",
      "46/46 [==============================] - 2s 49ms/step - loss: 0.3022 - accuracy: 0.8947 - lr: 2.4400e-04\n",
      "\n",
      "Epoch 5: LearningRateScheduler setting learning rate to 0.000322.\n",
      "Epoch 5/10\n",
      "46/46 [==============================] - 2s 46ms/step - loss: 0.2542 - accuracy: 0.9154 - lr: 3.2200e-04\n",
      "\n",
      "Epoch 6: LearningRateScheduler setting learning rate to 0.0004.\n",
      "Epoch 6/10\n",
      "46/46 [==============================] - 2s 46ms/step - loss: 0.1806 - accuracy: 0.9389 - lr: 4.0000e-04\n",
      "\n",
      "Epoch 7: LearningRateScheduler setting learning rate to 0.000322.\n",
      "Epoch 7/10\n",
      "46/46 [==============================] - 2s 47ms/step - loss: 0.1686 - accuracy: 0.9416 - lr: 3.2200e-04\n",
      "\n",
      "Epoch 8: LearningRateScheduler setting learning rate to 0.0002596000000000001.\n",
      "Epoch 8/10\n",
      "46/46 [==============================] - 2s 46ms/step - loss: 0.1074 - accuracy: 0.9630 - lr: 2.5960e-04\n",
      "\n",
      "Epoch 9: LearningRateScheduler setting learning rate to 0.00020968000000000004.\n",
      "Epoch 9/10\n",
      "46/46 [==============================] - 2s 46ms/step - loss: 0.0957 - accuracy: 0.9691 - lr: 2.0968e-04\n",
      "\n",
      "Epoch 10: LearningRateScheduler setting learning rate to 0.00016974400000000002.\n",
      "Epoch 10/10\n",
      "46/46 [==============================] - 2s 45ms/step - loss: 0.0791 - accuracy: 0.9759 - lr: 1.6974e-04\n",
      "1/1 [==============================] - 9s 9s/step - loss: 0.6134 - accuracy: 0.8594\n",
      "Validation accuracy:  0.859375\n",
      "\n",
      "Epoch 1: LearningRateScheduler setting learning rate to 1e-05.\n",
      "Epoch 1/10\n",
      "23/23 [==============================] - 55s 2s/step - loss: 1.5427 - accuracy: 0.3207 - lr: 1.0000e-05\n",
      "\n",
      "Epoch 2: LearningRateScheduler setting learning rate to 8.8e-05.\n",
      "Epoch 2/10\n",
      "23/23 [==============================] - 2s 83ms/step - loss: 0.6944 - accuracy: 0.7480 - lr: 8.8000e-05\n",
      "\n",
      "Epoch 3: LearningRateScheduler setting learning rate to 0.000166.\n",
      "Epoch 3/10\n",
      "23/23 [==============================] - 2s 83ms/step - loss: 0.3721 - accuracy: 0.8641 - lr: 1.6600e-04\n",
      "\n",
      "Epoch 4: LearningRateScheduler setting learning rate to 0.000244.\n",
      "Epoch 4/10\n",
      "23/23 [==============================] - 2s 87ms/step - loss: 0.2512 - accuracy: 0.9130 - lr: 2.4400e-04\n",
      "\n",
      "Epoch 5: LearningRateScheduler setting learning rate to 0.000322.\n",
      "Epoch 5/10\n",
      "23/23 [==============================] - 2s 83ms/step - loss: 0.1512 - accuracy: 0.9528 - lr: 3.2200e-04\n",
      "\n",
      "Epoch 6: LearningRateScheduler setting learning rate to 0.0004.\n",
      "Epoch 6/10\n",
      "23/23 [==============================] - 2s 83ms/step - loss: 0.1259 - accuracy: 0.9589 - lr: 4.0000e-04\n",
      "\n",
      "Epoch 7: LearningRateScheduler setting learning rate to 0.000322.\n",
      "Epoch 7/10\n",
      "23/23 [==============================] - 2s 85ms/step - loss: 0.0828 - accuracy: 0.9732 - lr: 3.2200e-04\n",
      "\n",
      "Epoch 8: LearningRateScheduler setting learning rate to 0.0002596000000000001.\n",
      "Epoch 8/10\n",
      "23/23 [==============================] - 2s 83ms/step - loss: 0.0550 - accuracy: 0.9827 - lr: 2.5960e-04\n",
      "\n",
      "Epoch 9: LearningRateScheduler setting learning rate to 0.00020968000000000004.\n",
      "Epoch 9/10\n",
      "23/23 [==============================] - 2s 84ms/step - loss: 0.0536 - accuracy: 0.9813 - lr: 2.0968e-04\n",
      "\n",
      "Epoch 10: LearningRateScheduler setting learning rate to 0.00016974400000000002.\n",
      "Epoch 10/10\n",
      "23/23 [==============================] - 2s 86ms/step - loss: 0.0388 - accuracy: 0.9908 - lr: 1.6974e-04\n",
      "1/1 [==============================] - 14s 14s/step - loss: 1.1064 - accuracy: 0.7656\n",
      "Validation accuracy:  0.765625\n",
      "\n",
      "Epoch 1: LearningRateScheduler setting learning rate to 1e-05.\n",
      "Epoch 1/10\n",
      "11/11 [==============================] - 57s 5s/step - loss: 1.7893 - accuracy: 0.2383 - lr: 1.0000e-05\n",
      "\n",
      "Epoch 2: LearningRateScheduler setting learning rate to 8.8e-05.\n",
      "Epoch 2/10\n",
      "11/11 [==============================] - 2s 163ms/step - loss: 0.9948 - accuracy: 0.6211 - lr: 8.8000e-05\n",
      "\n",
      "Epoch 3: LearningRateScheduler setting learning rate to 0.000166.\n",
      "Epoch 3/10\n",
      "11/11 [==============================] - 2s 158ms/step - loss: 0.4230 - accuracy: 0.8562 - lr: 1.6600e-04\n",
      "\n",
      "Epoch 4: LearningRateScheduler setting learning rate to 0.000244.\n",
      "Epoch 4/10\n",
      "11/11 [==============================] - 2s 160ms/step - loss: 0.2706 - accuracy: 0.9045 - lr: 2.4400e-04\n",
      "\n",
      "Epoch 5: LearningRateScheduler setting learning rate to 0.000322.\n",
      "Epoch 5/10\n",
      "11/11 [==============================] - 2s 158ms/step - loss: 0.1735 - accuracy: 0.9371 - lr: 3.2200e-04\n",
      "\n",
      "Epoch 6: LearningRateScheduler setting learning rate to 0.0004.\n",
      "Epoch 6/10\n",
      "11/11 [==============================] - 2s 168ms/step - loss: 0.1110 - accuracy: 0.9663 - lr: 4.0000e-04\n",
      "\n",
      "Epoch 7: LearningRateScheduler setting learning rate to 0.000322.\n",
      "Epoch 7/10\n",
      "11/11 [==============================] - 2s 161ms/step - loss: 0.0656 - accuracy: 0.9808 - lr: 3.2200e-04\n",
      "\n",
      "Epoch 8: LearningRateScheduler setting learning rate to 0.0002596000000000001.\n",
      "Epoch 8/10\n",
      "11/11 [==============================] - 2s 152ms/step - loss: 0.0530 - accuracy: 0.9847 - lr: 2.5960e-04\n",
      "\n",
      "Epoch 9: LearningRateScheduler setting learning rate to 0.00020968000000000004.\n",
      "Epoch 9/10\n",
      "11/11 [==============================] - 2s 154ms/step - loss: 0.0431 - accuracy: 0.9876 - lr: 2.0968e-04\n",
      "\n",
      "Epoch 10: LearningRateScheduler setting learning rate to 0.00016974400000000002.\n",
      "Epoch 10/10\n",
      "11/11 [==============================] - 2s 158ms/step - loss: 0.0315 - accuracy: 0.9915 - lr: 1.6974e-04\n",
      "1/1 [==============================] - 14s 14s/step - loss: 0.7230 - accuracy: 0.8320\n",
      "Validation accuracy:  0.83203125\n",
      "\n",
      "Epoch 1: LearningRateScheduler setting learning rate to 1e-05.\n",
      "Epoch 1/10\n",
      "7/7 [==============================] - 42s 206ms/step - loss: 1.7177 - accuracy: 0.2608 - lr: 1.0000e-05\n",
      "\n",
      "Epoch 2: LearningRateScheduler setting learning rate to 8.8e-05.\n",
      "Epoch 2/10\n",
      "7/7 [==============================] - 2s 219ms/step - loss: 1.1115 - accuracy: 0.5818 - lr: 8.8000e-05\n",
      "\n",
      "Epoch 3: LearningRateScheduler setting learning rate to 0.000166.\n",
      "Epoch 3/10\n",
      "7/7 [==============================] - 2s 222ms/step - loss: 0.5225 - accuracy: 0.8192 - lr: 1.6600e-04\n",
      "\n",
      "Epoch 4: LearningRateScheduler setting learning rate to 0.000244.\n",
      "Epoch 4/10\n",
      "7/7 [==============================] - 2s 219ms/step - loss: 0.2872 - accuracy: 0.8951 - lr: 2.4400e-04\n",
      "\n",
      "Epoch 5: LearningRateScheduler setting learning rate to 0.000322.\n",
      "Epoch 5/10\n",
      "7/7 [==============================] - 1s 209ms/step - loss: 0.1810 - accuracy: 0.9405 - lr: 3.2200e-04\n",
      "\n",
      "Epoch 6: LearningRateScheduler setting learning rate to 0.0004.\n",
      "Epoch 6/10\n",
      "7/7 [==============================] - 2s 230ms/step - loss: 0.1265 - accuracy: 0.9565 - lr: 4.0000e-04\n",
      "\n",
      "Epoch 7: LearningRateScheduler setting learning rate to 0.000322.\n",
      "Epoch 7/10\n",
      "7/7 [==============================] - 1s 202ms/step - loss: 0.0714 - accuracy: 0.9792 - lr: 3.2200e-04\n",
      "\n",
      "Epoch 8: LearningRateScheduler setting learning rate to 0.0002596000000000001.\n",
      "Epoch 8/10\n",
      "7/7 [==============================] - 1s 204ms/step - loss: 0.0471 - accuracy: 0.9870 - lr: 2.5960e-04\n",
      "\n",
      "Epoch 9: LearningRateScheduler setting learning rate to 0.00020968000000000004.\n",
      "Epoch 9/10\n",
      "7/7 [==============================] - 1s 213ms/step - loss: 0.0371 - accuracy: 0.9911 - lr: 2.0968e-04\n",
      "\n",
      "Epoch 10: LearningRateScheduler setting learning rate to 0.00016974400000000002.\n",
      "Epoch 10/10\n",
      "7/7 [==============================] - 2s 219ms/step - loss: 0.0326 - accuracy: 0.9933 - lr: 1.6974e-04\n",
      "1/1 [==============================] - 8s 8s/step - loss: 0.7844 - accuracy: 0.8307\n",
      "Validation accuracy:  0.8307291865348816\n",
      "\n",
      "Epoch 1: LearningRateScheduler setting learning rate to 1e-05.\n",
      "Epoch 1/10\n",
      "5/5 [==============================] - 42s 205ms/step - loss: 1.7240 - accuracy: 0.2320 - lr: 1.0000e-05\n",
      "\n",
      "Epoch 2: LearningRateScheduler setting learning rate to 8.8e-05.\n",
      "Epoch 2/10\n",
      "5/5 [==============================] - 1s 215ms/step - loss: 1.2221 - accuracy: 0.5195 - lr: 8.8000e-05\n",
      "\n",
      "Epoch 3: LearningRateScheduler setting learning rate to 0.000166.\n",
      "Epoch 3/10\n",
      "5/5 [==============================] - 1s 188ms/step - loss: 0.6110 - accuracy: 0.7922 - lr: 1.6600e-04\n",
      "\n",
      "Epoch 4: LearningRateScheduler setting learning rate to 0.000244.\n",
      "Epoch 4/10\n",
      "5/5 [==============================] - 1s 187ms/step - loss: 0.3446 - accuracy: 0.8789 - lr: 2.4400e-04\n",
      "\n",
      "Epoch 5: LearningRateScheduler setting learning rate to 0.000322.\n",
      "Epoch 5/10\n",
      "5/5 [==============================] - 1s 186ms/step - loss: 0.2153 - accuracy: 0.9246 - lr: 3.2200e-04\n",
      "\n",
      "Epoch 6: LearningRateScheduler setting learning rate to 0.0004.\n",
      "Epoch 6/10\n",
      "5/5 [==============================] - 1s 184ms/step - loss: 0.1431 - accuracy: 0.9473 - lr: 4.0000e-04\n",
      "\n",
      "Epoch 7: LearningRateScheduler setting learning rate to 0.000322.\n",
      "Epoch 7/10\n",
      "5/5 [==============================] - 1s 185ms/step - loss: 0.0982 - accuracy: 0.9676 - lr: 3.2200e-04\n",
      "\n",
      "Epoch 8: LearningRateScheduler setting learning rate to 0.0002596000000000001.\n",
      "Epoch 8/10\n",
      "5/5 [==============================] - 1s 186ms/step - loss: 0.0623 - accuracy: 0.9824 - lr: 2.5960e-04\n",
      "\n",
      "Epoch 9: LearningRateScheduler setting learning rate to 0.00020968000000000004.\n",
      "Epoch 9/10\n",
      "5/5 [==============================] - 1s 182ms/step - loss: 0.0566 - accuracy: 0.9824 - lr: 2.0968e-04\n",
      "\n",
      "Epoch 10: LearningRateScheduler setting learning rate to 0.00016974400000000002.\n",
      "Epoch 10/10\n",
      "5/5 [==============================] - 1s 184ms/step - loss: 0.0469 - accuracy: 0.9859 - lr: 1.6974e-04\n",
      "1/1 [==============================] - 13s 13s/step - loss: 0.6914 - accuracy: 0.8379\n",
      "Validation accuracy:  0.837890625\n",
      "\n",
      "Epoch 1: LearningRateScheduler setting learning rate to 1e-05.\n",
      "Epoch 1/10\n",
      "4/4 [==============================] - 43s 432ms/step - loss: 1.8680 - accuracy: 0.2094 - lr: 1.0000e-05\n",
      "\n",
      "Epoch 2: LearningRateScheduler setting learning rate to 8.8e-05.\n",
      "Epoch 2/10\n",
      "4/4 [==============================] - 1s 276ms/step - loss: 1.4627 - accuracy: 0.4020 - lr: 8.8000e-05\n",
      "\n",
      "Epoch 3: LearningRateScheduler setting learning rate to 0.000166.\n",
      "Epoch 3/10\n",
      "4/4 [==============================] - 1s 312ms/step - loss: 0.7168 - accuracy: 0.7555 - lr: 1.6600e-04\n",
      "\n",
      "Epoch 4: LearningRateScheduler setting learning rate to 0.000244.\n",
      "Epoch 4/10\n",
      "4/4 [==============================] - 1s 336ms/step - loss: 0.4029 - accuracy: 0.8582 - lr: 2.4400e-04\n",
      "\n",
      "Epoch 5: LearningRateScheduler setting learning rate to 0.000322.\n",
      "Epoch 5/10\n",
      "4/4 [==============================] - 1s 329ms/step - loss: 0.3079 - accuracy: 0.8898 - lr: 3.2200e-04\n",
      "\n",
      "Epoch 6: LearningRateScheduler setting learning rate to 0.0004.\n",
      "Epoch 6/10\n",
      "4/4 [==============================] - 1s 291ms/step - loss: 0.1837 - accuracy: 0.9336 - lr: 4.0000e-04\n",
      "\n",
      "Epoch 7: LearningRateScheduler setting learning rate to 0.000322.\n",
      "Epoch 7/10\n",
      "4/4 [==============================] - 1s 323ms/step - loss: 0.1278 - accuracy: 0.9586 - lr: 3.2200e-04\n",
      "\n",
      "Epoch 8: LearningRateScheduler setting learning rate to 0.0002596000000000001.\n",
      "Epoch 8/10\n",
      "4/4 [==============================] - 1s 312ms/step - loss: 0.0834 - accuracy: 0.9750 - lr: 2.5960e-04\n",
      "\n",
      "Epoch 9: LearningRateScheduler setting learning rate to 0.00020968000000000004.\n",
      "Epoch 9/10\n",
      "4/4 [==============================] - 1s 300ms/step - loss: 0.0633 - accuracy: 0.9824 - lr: 2.0968e-04\n",
      "\n",
      "Epoch 10: LearningRateScheduler setting learning rate to 0.00016974400000000002.\n",
      "Epoch 10/10\n",
      "4/4 [==============================] - 1s 314ms/step - loss: 0.0552 - accuracy: 0.9852 - lr: 1.6974e-04\n",
      "1/1 [==============================] - 13s 13s/step - loss: 0.9801 - accuracy: 0.7734\n",
      "Validation accuracy:  0.7734375\n"
     ]
    },
    {
     "data": {
      "image/png": "[encoded data removed]",
      "text/plain": [
       "<Figure size 1440x864 with 8 Axes>"
      ]
     },
     "metadata": {
      "needs_background": "light"
     },
     "output_type": "display_data"
    }
   ],
   "source": [
    "import pandas as pd\n",
    "from functions import *\n",
    "batch_size = [16*strategy.num_replicas_in_sync*x for x in range(1, 9)]\n",
    "seconds = []\n",
    "accuracy = []\n",
    "loss = []\n",
    "val_loss = []\n",
    "val_acc = []\n",
    "\n",
    "plt.subplots(4, 2, figsize=(20, 12))\n",
    "\n",
    "plot_batches(batch_size, epochs=10)\n",
    "plt.show()"
   ]
  },
  {
   "cell_type": "code",
   "execution_count": 29,
   "metadata": {
    "executionInfo": {
     "elapsed": 8,
     "status": "ok",
     "timestamp": 1651422775277,
     "user": {
      "displayName": "graham broughton",
      "userId": "15728648374086258761"
     },
     "user_tz": 420
    },
    "id": "RL4i63Wj1zYl"
   },
   "outputs": [],
   "source": [
    "df.to_csv('TPU_mobilenetv2.csv', index=False)"
   ]
  },
  {
   "cell_type": "code",
   "execution_count": null,
   "metadata": {
    "id": "p9YGGQtXd8Xh"
   },
   "outputs": [],
   "source": []
  }
 ],
 "metadata": {
  "accelerator": "TPU",
  "colab": {
   "authorship_tag": "ABX9TyOme/1LlN6+V30rGp2kFAwY",
   "collapsed_sections": [],
   "machine_shape": "hm",
   "mount_file_id": "1cStYr0wZSXyOa8nk7tFxnzxxGdX68ZkH",
   "name": "Copy of Copy of TPUtest.ipynb",
   "provenance": [
    {
     "file_id": "1rvJ9D_INeWPsKd6UGZTrL53nZ3yrXo20",
     "timestamp": 1651414704754
    },
    {
     "file_id": "148Nk5ZT7WSpf_9LlQn8Z-TWT8W-qXCdM",
     "timestamp": 1651312575288
    }
   ]
  },
  "kernelspec": {
   "display_name": "Python 3 (ipykernel)",
   "language": "python",
   "name": "python3"
  },
  "language_info": {
   "codemirror_mode": {
    "name": "ipython",
    "version": 3
   },
   "file_extension": ".py",
   "mimetype": "text/x-python",
   "name": "python",
   "nbconvert_exporter": "python",
   "pygments_lexer": "ipython3",
   "version": "3.9.12"
  }
 },
 "nbformat": 4,
 "nbformat_minor": 4
}
