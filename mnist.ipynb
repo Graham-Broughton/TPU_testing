{
 "cells": [
  {
   "cell_type": "code",
   "execution_count": null,
   "metadata": {
    "id": "sgqGMO8kO00j"
   },
   "outputs": [],
   "source": [
    "import tensorflow as tf\n",
    "import numpy as np\n",
    "from tensorflow.keras.utils import to_categorical\n",
    "import os, re, time, json\n",
    "import PIL.Image, PIL.ImageFont, PIL.ImageDraw\n",
    "from matplotlib import pyplot as plt\n",
    "\n",
    "try: # detect TPUs\n",
    "    tpu = tf.distribute.cluster_resolver.TPUClusterResolver.connect() # TPU detection\n",
    "    strategy = tf.distribute.TPUStrategy(tpu)\n",
    "except ValueError: # detect GPUs\n",
    "    #strategy = tf.distribute.MirroredStrategy() # for GPU or multi-GPU machines\n",
    "    strategy = tf.distribute.get_strategy() # default strategy that works on CPU and single GPU\n",
    "    #strategy = tf.distribute.experimental.MultiWorkerMirroredStrategy() # for clusters of multi-GPU machines\n",
    "\n",
    "# MIXED_PRECISION = True\n",
    "# if MIXED_PRECISION:\n",
    "#     try: \n",
    "#         tpu\n",
    "#         policy = tf.keras.mixed_precision.Policy('mixed_bfloat16')\n",
    "#     else: #\n",
    "#         policy = tf.keras.mixed_precision.Policy('mixed_float16')\n",
    "#         tf.config.optimizer.set_jit(True) # XLA compilation\n",
    "#     tf.keras.mixed_precision.set_global_policy(policy)\n",
    "#     print('Mixed precision enabled')\n"
   ]
  },
  {
   "cell_type": "code",
   "execution_count": null,
   "metadata": {
    "id": "oX7DOjhUlCLb"
   },
   "outputs": [],
   "source": [
    "training_images_file   = 'gs://mnist-public/train-images-idx3-ubyte'\n",
    "training_labels_file   = 'gs://mnist-public/train-labels-idx1-ubyte'\n",
    "validation_images_file = 'gs://mnist-public/t10k-images-idx3-ubyte'\n",
    "validation_labels_file = 'gs://mnist-public/t10k-labels-idx1-ubyte'\n",
    "AUTO = tf.data.experimental.AUTOTUNE"
   ]
  },
  {
   "cell_type": "code",
   "execution_count": null,
   "metadata": {
    "id": "shvE9TqNB37U"
   },
   "outputs": [],
   "source": [
    "training_dataset = get_training_dataset(training_images_file, training_labels_file, 128)\n",
    "validation_dataset = get_validation_dataset(validation_images_file, validation_labels_file)"
   ]
  },
  {
   "cell_type": "markdown",
   "metadata": {
    "id": "AtEJD_s1wdty"
   },
   "source": [
    "# Basic CNN"
   ]
  },
  {
   "cell_type": "markdown",
   "metadata": {
    "id": "cSoBDg4PwylQ"
   },
   "source": [
    "#GPU vs TPU\n"
   ]
  },
  {
   "cell_type": "code",
   "execution_count": null,
   "metadata": {
    "colab": {
     "base_uri": "https://localhost:8080/"
    },
    "executionInfo": {
     "elapsed": 564,
     "status": "ok",
     "timestamp": 1651408810166,
     "user": {
      "displayName": "graham broughton",
      "userId": "15728648374086258761"
     },
     "user_tz": 420
    },
    "id": "yluf1xqjsILa",
    "outputId": "c55913c4-b066-4bcb-985b-cd5e266c071d"
   },
   "outputs": [
    {
     "name": "stdout",
     "output_type": "stream",
     "text": [
      "Downloading data from https://storage.googleapis.com/tensorflow/tf-keras-datasets/mnist.npz\n",
      "11493376/11490434 [==============================] - 0s 0us/step\n",
      "11501568/11490434 [==============================] - 0s 0us/step\n"
     ]
    }
   ],
   "source": [
    "x_train, y_train, x_test, y_test = get_data()"
   ]
  },
  {
   "cell_type": "code",
   "execution_count": null,
   "metadata": {
    "id": "7UkDprdtfgRu"
   },
   "outputs": [],
   "source": [
    "\n",
    "import keras"
   ]
  },
  {
   "cell_type": "code",
   "execution_count": null,
   "metadata": {
    "id": "4vAM7pBPxVbm"
   },
   "outputs": [],
   "source": [
    "# import datetime\n",
    "# import tensorflow as tf\n",
    "# class etimer(keras.callbacks.Callback):\n",
    "#     def __init__ (self): # initialization of the callback\n",
    "#         super(etimer, self).__init__()\n",
    "#     def on_epoch_begin(self,epoch, logs=None):\n",
    "#         self.now= time.time()\n",
    "#     def on_epoch_end(self,epoch, logs=None): \n",
    "#         later=time.time()\n",
    "#         duration=later-self.now \n",
    "#         print('\\nfor epoch ', epoch +1, ' the duration was ', duration, ' seconds')\n",
    "\n",
    "# timing = etimer()\n"
   ]
  },
  {
   "cell_type": "code",
   "execution_count": null,
   "metadata": {
    "colab": {
     "background_save": true,
     "base_uri": "https://localhost:8080/"
    },
    "id": "EogRmT3Pvknz",
    "outputId": "156c28fd-0441-4136-f145-b3dd2248af6e"
   },
   "outputs": [
    {
     "name": "stdout",
     "output_type": "stream",
     "text": [
      "Epoch 1/10\n",
      "469/469 [==============================] - 13s 5ms/step - loss: 1.5142 - accuracy: 0.7306\n",
      "Epoch 2/10\n",
      "469/469 [==============================] - 3s 6ms/step - loss: 0.3211 - accuracy: 0.9035\n",
      "Epoch 3/10\n",
      "469/469 [==============================] - 2s 5ms/step - loss: 0.2167 - accuracy: 0.9341\n",
      "Epoch 4/10\n",
      "469/469 [==============================] - 2s 5ms/step - loss: 0.1742 - accuracy: 0.9474\n",
      "Epoch 5/10\n",
      "469/469 [==============================] - 2s 5ms/step - loss: 0.1492 - accuracy: 0.9549\n",
      "Epoch 6/10\n",
      "469/469 [==============================] - 3s 6ms/step - loss: 0.1345 - accuracy: 0.9599\n",
      "Epoch 7/10\n",
      "469/469 [==============================] - 2s 5ms/step - loss: 0.1230 - accuracy: 0.9621\n",
      "Epoch 8/10\n",
      "469/469 [==============================] - 2s 5ms/step - loss: 0.1087 - accuracy: 0.9669\n",
      "Epoch 9/10\n",
      "469/469 [==============================] - 2s 5ms/step - loss: 0.1036 - accuracy: 0.9683\n",
      "Epoch 10/10\n",
      "469/469 [==============================] - 3s 6ms/step - loss: 0.0966 - accuracy: 0.9707\n",
      "1/1 [==============================] - 1s 626ms/step - loss: 0.0439 - accuracy: 0.9853\n",
      "Epoch 1/10\n",
      "235/235 [==============================] - 2s 7ms/step - loss: 2.1725 - accuracy: 0.6517\n",
      "Epoch 2/10\n",
      "235/235 [==============================] - 2s 7ms/step - loss: 0.4103 - accuracy: 0.8793\n",
      "Epoch 3/10\n",
      "235/235 [==============================] - 2s 7ms/step - loss: 0.2751 - accuracy: 0.9174\n",
      "Epoch 4/10\n",
      "235/235 [==============================] - 2s 7ms/step - loss: 0.2167 - accuracy: 0.9353\n",
      "Epoch 5/10\n",
      "235/235 [==============================] - 2s 7ms/step - loss: 0.1852 - accuracy: 0.9452\n",
      "Epoch 6/10\n",
      "235/235 [==============================] - 2s 7ms/step - loss: 0.1610 - accuracy: 0.9509\n",
      "Epoch 7/10\n",
      "235/235 [==============================] - 2s 7ms/step - loss: 0.1417 - accuracy: 0.9571\n",
      "Epoch 8/10\n",
      "235/235 [==============================] - 2s 7ms/step - loss: 0.1311 - accuracy: 0.9612\n",
      "Epoch 9/10\n",
      "235/235 [==============================] - 2s 7ms/step - loss: 0.1208 - accuracy: 0.9630\n",
      "Epoch 10/10\n",
      "235/235 [==============================] - 2s 7ms/step - loss: 0.1124 - accuracy: 0.9657\n",
      "1/1 [==============================] - 0s 175ms/step - loss: 0.0415 - accuracy: 0.9878\n",
      "Epoch 1/10\n",
      "157/157 [==============================] - 2s 9ms/step - loss: 3.7757 - accuracy: 0.5694\n",
      "Epoch 2/10\n",
      "157/157 [==============================] - 1s 9ms/step - loss: 0.5846 - accuracy: 0.8245\n",
      "Epoch 3/10\n",
      "157/157 [==============================] - 1s 9ms/step - loss: 0.4017 - accuracy: 0.8825\n",
      "Epoch 4/10\n",
      "157/157 [==============================] - 1s 9ms/step - loss: 0.3161 - accuracy: 0.9069\n",
      "Epoch 5/10\n",
      "157/157 [==============================] - 1s 9ms/step - loss: 0.2587 - accuracy: 0.9221\n",
      "Epoch 6/10\n",
      "157/157 [==============================] - 1s 9ms/step - loss: 0.2282 - accuracy: 0.9316\n",
      "Epoch 7/10\n",
      "157/157 [==============================] - 1s 9ms/step - loss: 0.2023 - accuracy: 0.9406\n",
      "Epoch 8/10\n",
      "157/157 [==============================] - 1s 9ms/step - loss: 0.1816 - accuracy: 0.9456\n",
      "Epoch 9/10\n",
      "157/157 [==============================] - 1s 10ms/step - loss: 0.1679 - accuracy: 0.9503\n",
      "Epoch 10/10\n",
      "157/157 [==============================] - 1s 9ms/step - loss: 0.1537 - accuracy: 0.9536\n",
      "1/1 [==============================] - 0s 186ms/step - loss: 0.0532 - accuracy: 0.9834\n",
      "Epoch 1/10\n",
      "118/118 [==============================] - 2s 12ms/step - loss: 3.1653 - accuracy: 0.5774\n",
      "Epoch 2/10\n",
      "118/118 [==============================] - 1s 11ms/step - loss: 0.6145 - accuracy: 0.8067\n",
      "Epoch 3/10\n",
      "118/118 [==============================] - 1s 11ms/step - loss: 0.4013 - accuracy: 0.8787\n",
      "Epoch 4/10\n",
      "118/118 [==============================] - 1s 12ms/step - loss: 0.3096 - accuracy: 0.9085\n",
      "Epoch 5/10\n",
      "118/118 [==============================] - 1s 11ms/step - loss: 0.2541 - accuracy: 0.9238\n",
      "Epoch 6/10\n",
      "118/118 [==============================] - 1s 11ms/step - loss: 0.2175 - accuracy: 0.9360\n",
      "Epoch 7/10\n",
      "118/118 [==============================] - 1s 11ms/step - loss: 0.1938 - accuracy: 0.9418\n",
      "Epoch 8/10\n",
      "118/118 [==============================] - 1s 11ms/step - loss: 0.1719 - accuracy: 0.9479\n",
      "Epoch 9/10\n",
      "118/118 [==============================] - 1s 11ms/step - loss: 0.1583 - accuracy: 0.9521\n",
      "Epoch 10/10\n",
      "118/118 [==============================] - 1s 12ms/step - loss: 0.1469 - accuracy: 0.9555\n",
      "1/1 [==============================] - 0s 184ms/step - loss: 0.0473 - accuracy: 0.9846\n",
      "Epoch 1/10\n",
      "94/94 [==============================] - 2s 14ms/step - loss: 3.6957 - accuracy: 0.5632\n",
      "Epoch 2/10\n",
      "94/94 [==============================] - 1s 14ms/step - loss: 0.6261 - accuracy: 0.8091\n",
      "Epoch 3/10\n",
      "94/94 [==============================] - 1s 14ms/step - loss: 0.4384 - accuracy: 0.8669\n",
      "Epoch 4/10\n",
      "94/94 [==============================] - 1s 14ms/step - loss: 0.3523 - accuracy: 0.8925\n",
      "Epoch 5/10\n",
      "94/94 [==============================] - 1s 14ms/step - loss: 0.2963 - accuracy: 0.9109\n",
      "Epoch 6/10\n",
      "94/94 [==============================] - 1s 14ms/step - loss: 0.2600 - accuracy: 0.9217\n",
      "Epoch 7/10\n",
      "94/94 [==============================] - 1s 14ms/step - loss: 0.2338 - accuracy: 0.9297\n",
      "Epoch 8/10\n",
      "94/94 [==============================] - 1s 14ms/step - loss: 0.2089 - accuracy: 0.9378\n",
      "Epoch 9/10\n",
      "94/94 [==============================] - 1s 13ms/step - loss: 0.1927 - accuracy: 0.9424\n",
      "Epoch 10/10\n",
      "94/94 [==============================] - 1s 14ms/step - loss: 0.1794 - accuracy: 0.9460\n",
      "WARNING:tensorflow:5 out of the last 5 calls to <function Model.make_test_function.<locals>.test_function at 0x7f6ceb863ef0> triggered tf.function retracing. Tracing is expensive and the excessive number of tracings could be due to (1) creating @tf.function repeatedly in a loop, (2) passing tensors with different shapes, (3) passing Python objects instead of tensors. For (1), please define your @tf.function outside of the loop. For (2), @tf.function has experimental_relax_shapes=True option that relaxes argument shapes that can avoid unnecessary retracing. For (3), please refer to https://www.tensorflow.org/guide/function#controlling_retracing and https://www.tensorflow.org/api_docs/python/tf/function for  more details.\n",
      "1/1 [==============================] - 0s 182ms/step - loss: 0.0596 - accuracy: 0.9804\n",
      "Epoch 1/10\n",
      "79/79 [==============================] - 2s 16ms/step - loss: 5.0160 - accuracy: 0.5093\n",
      "Epoch 2/10\n",
      "79/79 [==============================] - 1s 16ms/step - loss: 0.8524 - accuracy: 0.7362\n",
      "Epoch 3/10\n",
      "79/79 [==============================] - 1s 16ms/step - loss: 0.5596 - accuracy: 0.8315\n",
      "Epoch 4/10\n",
      "79/79 [==============================] - 1s 15ms/step - loss: 0.4236 - accuracy: 0.8740\n",
      "Epoch 5/10\n",
      "79/79 [==============================] - 1s 16ms/step - loss: 0.3408 - accuracy: 0.8969\n",
      "Epoch 6/10\n",
      "79/79 [==============================] - 1s 16ms/step - loss: 0.2944 - accuracy: 0.9126\n",
      "Epoch 7/10\n",
      "79/79 [==============================] - 1s 16ms/step - loss: 0.2572 - accuracy: 0.9234\n",
      "Epoch 8/10\n",
      "79/79 [==============================] - 1s 16ms/step - loss: 0.2335 - accuracy: 0.9301\n",
      "Epoch 9/10\n",
      "79/79 [==============================] - 1s 16ms/step - loss: 0.2114 - accuracy: 0.9371\n",
      "Epoch 10/10\n",
      "79/79 [==============================] - 1s 16ms/step - loss: 0.1943 - accuracy: 0.9407\n",
      "WARNING:tensorflow:6 out of the last 6 calls to <function Model.make_test_function.<locals>.test_function at 0x7f6ceb601560> triggered tf.function retracing. Tracing is expensive and the excessive number of tracings could be due to (1) creating @tf.function repeatedly in a loop, (2) passing tensors with different shapes, (3) passing Python objects instead of tensors. For (1), please define your @tf.function outside of the loop. For (2), @tf.function has experimental_relax_shapes=True option that relaxes argument shapes that can avoid unnecessary retracing. For (3), please refer to https://www.tensorflow.org/guide/function#controlling_retracing and https://www.tensorflow.org/api_docs/python/tf/function for  more details.\n",
      "1/1 [==============================] - 0s 193ms/step - loss: 0.0646 - accuracy: 0.9786\n",
      "Epoch 1/10\n",
      "67/67 [==============================] - 2s 19ms/step - loss: 4.2155 - accuracy: 0.5501\n",
      "Epoch 2/10\n",
      "67/67 [==============================] - 1s 18ms/step - loss: 0.6949 - accuracy: 0.7817\n",
      "Epoch 3/10\n",
      "67/67 [==============================] - 1s 18ms/step - loss: 0.4975 - accuracy: 0.8466\n",
      "Epoch 4/10\n",
      "67/67 [==============================] - 1s 18ms/step - loss: 0.3934 - accuracy: 0.8812\n",
      "Epoch 5/10\n",
      "67/67 [==============================] - 1s 18ms/step - loss: 0.3204 - accuracy: 0.9020\n",
      "Epoch 6/10\n",
      "67/67 [==============================] - 1s 18ms/step - loss: 0.2818 - accuracy: 0.9162\n",
      "Epoch 7/10\n",
      "67/67 [==============================] - 1s 18ms/step - loss: 0.2477 - accuracy: 0.9242\n",
      "Epoch 8/10\n",
      "67/67 [==============================] - 1s 18ms/step - loss: 0.2276 - accuracy: 0.9313\n",
      "Epoch 9/10\n",
      "67/67 [==============================] - 1s 18ms/step - loss: 0.2049 - accuracy: 0.9380\n",
      "Epoch 10/10\n",
      "67/67 [==============================] - 1s 18ms/step - loss: 0.1889 - accuracy: 0.9427\n",
      "1/1 [==============================] - 0s 187ms/step - loss: 0.0660 - accuracy: 0.9780\n",
      "Epoch 1/10\n",
      "59/59 [==============================] - 2s 21ms/step - loss: 5.8104 - accuracy: 0.5250\n",
      "Epoch 2/10\n",
      "59/59 [==============================] - 1s 20ms/step - loss: 0.6774 - accuracy: 0.7936\n",
      "Epoch 3/10\n",
      "59/59 [==============================] - 1s 20ms/step - loss: 0.4700 - accuracy: 0.8590\n",
      "Epoch 4/10\n",
      "59/59 [==============================] - 1s 20ms/step - loss: 0.3756 - accuracy: 0.8872\n",
      "Epoch 5/10\n",
      "59/59 [==============================] - 1s 20ms/step - loss: 0.3277 - accuracy: 0.9025\n",
      "Epoch 6/10\n",
      "59/59 [==============================] - 1s 20ms/step - loss: 0.2900 - accuracy: 0.9125\n",
      "Epoch 7/10\n",
      "59/59 [==============================] - 1s 20ms/step - loss: 0.2707 - accuracy: 0.9204\n",
      "Epoch 8/10\n",
      "59/59 [==============================] - 1s 20ms/step - loss: 0.2477 - accuracy: 0.9273\n",
      "Epoch 9/10\n",
      "59/59 [==============================] - 1s 20ms/step - loss: 0.2313 - accuracy: 0.9301\n",
      "Epoch 10/10\n",
      "59/59 [==============================] - 1s 20ms/step - loss: 0.2169 - accuracy: 0.9353\n",
      "1/1 [==============================] - 0s 189ms/step - loss: 0.0805 - accuracy: 0.9757\n"
     ]
    },
    {
     "data": {
      "image/png": "[encoded data removed]",
      "text/plain": [
       "<Figure size 1440x792 with 8 Axes>"
      ]
     },
     "metadata": {},
     "output_type": "display_data"
    }
   ],
   "source": [
    "import pandas as pd\n",
    "batch_size = [16*8*x for x in range(1, 9)]\n",
    "seconds = []\n",
    "accuracy = []\n",
    "val_acc = []\n",
    "loss = []\n",
    "val_loss = []\n",
    "plt.subplots(4, 2, figsize=(20, 11))\n",
    "plot_batches(batch_size)\n",
    "for n in range(len(batch_size)):\n",
    "    with strategy.scope():\n",
    "        model = create_model()\n",
    "        starttime = time.time()\n",
    "        history = model.fit(x_train,\n",
    "            y_train,\n",
    "            batch_size=batch_size[n],\n",
    "            epochs=10,\n",
    "            )\n",
    "        seconds.append((time.time() - starttime ))\n",
    "    final_stats = model.evaluate(x_test, y_test, steps=1)\n",
    "    plot_no = 420+(n+1)\n",
    "    plt.subplot(plot_no)\n",
    "    plt.plot(history.history['accuracy'], label='train')\n",
    "    plt.plot(history.history['loss'], label='train')\n",
    "    plt.title(f'batch={batch_size[n]}', pad=-40)\n",
    "    accuracy.append(history.history['accuracy'][-1])\n",
    "    loss.append(history.history['loss'][-1])\n",
    "    val_acc.append(final_stats[1])\n",
    "    val_loss.append(final_stats[0])"
   ]
  },
  {
   "cell_type": "code",
   "execution_count": null,
   "metadata": {
    "colab": {
     "base_uri": "https://localhost:8080/"
    },
    "executionInfo": {
     "elapsed": 152,
     "status": "ok",
     "timestamp": 1651408101729,
     "user": {
      "displayName": "graham broughton",
      "userId": "15728648374086258761"
     },
     "user_tz": 420
    },
    "id": "ck0zx6lYTQ3m",
    "outputId": "2d6fae3f-8442-460e-8620-f03ea501e067"
   },
   "outputs": [
    {
     "data": {
      "text/plain": [
       "8"
      ]
     },
     "execution_count": 152,
     "metadata": {},
     "output_type": "execute_result"
    }
   ],
   "source": [
    "strategy.num_replicas_in_sync"
   ]
  },
  {
   "cell_type": "code",
   "execution_count": null,
   "metadata": {
    "colab": {
     "base_uri": "https://localhost:8080/",
     "height": 300
    },
    "executionInfo": {
     "elapsed": 155,
     "status": "ok",
     "timestamp": 1651407618474,
     "user": {
      "displayName": "graham broughton",
      "userId": "15728648374086258761"
     },
     "user_tz": 420
    },
    "id": "pf7Cm55iLumu",
    "outputId": "b9e625fc-ea8b-4088-9596-6b92967caa67"
   },
   "outputs": [
    {
     "data": {
      "text/html": [
       "\n",
       "  <div id=\"df-45a6926f-f271-43c7-8a52-862b6ff89067\">\n",
       "    <div class=\"colab-df-container\">\n",
       "      <div>\n",
       "<style scoped>\n",
       "    .dataframe tbody tr th:only-of-type {\n",
       "        vertical-align: middle;\n",
       "    }\n",
       "\n",
       "    .dataframe tbody tr th {\n",
       "        vertical-align: top;\n",
       "    }\n",
       "\n",
       "    .dataframe thead th {\n",
       "        text-align: right;\n",
       "    }\n",
       "</style>\n",
       "<table border=\"1\" class=\"dataframe\">\n",
       "  <thead>\n",
       "    <tr style=\"text-align: right;\">\n",
       "      <th></th>\n",
       "      <th>accuracy</th>\n",
       "      <th>loss</th>\n",
       "      <th>val_loss</th>\n",
       "      <th>val_acc</th>\n",
       "      <th>seconds</th>\n",
       "    </tr>\n",
       "  </thead>\n",
       "  <tbody>\n",
       "    <tr>\n",
       "      <th>128</th>\n",
       "      <td>0.983400</td>\n",
       "      <td>0.052600</td>\n",
       "      <td>0.028206</td>\n",
       "      <td>0.9913</td>\n",
       "      <td>84.098077</td>\n",
       "    </tr>\n",
       "    <tr>\n",
       "      <th>256</th>\n",
       "      <td>0.981150</td>\n",
       "      <td>0.060010</td>\n",
       "      <td>0.032532</td>\n",
       "      <td>0.9893</td>\n",
       "      <td>45.032599</td>\n",
       "    </tr>\n",
       "    <tr>\n",
       "      <th>384</th>\n",
       "      <td>0.980783</td>\n",
       "      <td>0.059718</td>\n",
       "      <td>0.033043</td>\n",
       "      <td>0.9906</td>\n",
       "      <td>32.888604</td>\n",
       "    </tr>\n",
       "    <tr>\n",
       "      <th>512</th>\n",
       "      <td>0.978850</td>\n",
       "      <td>0.071494</td>\n",
       "      <td>0.032898</td>\n",
       "      <td>0.9891</td>\n",
       "      <td>27.611130</td>\n",
       "    </tr>\n",
       "    <tr>\n",
       "      <th>640</th>\n",
       "      <td>0.977200</td>\n",
       "      <td>0.073718</td>\n",
       "      <td>0.037300</td>\n",
       "      <td>0.9876</td>\n",
       "      <td>25.504067</td>\n",
       "    </tr>\n",
       "    <tr>\n",
       "      <th>768</th>\n",
       "      <td>0.975933</td>\n",
       "      <td>0.078654</td>\n",
       "      <td>0.038223</td>\n",
       "      <td>0.9877</td>\n",
       "      <td>22.063627</td>\n",
       "    </tr>\n",
       "    <tr>\n",
       "      <th>896</th>\n",
       "      <td>0.975383</td>\n",
       "      <td>0.078621</td>\n",
       "      <td>0.037384</td>\n",
       "      <td>0.9880</td>\n",
       "      <td>19.729057</td>\n",
       "    </tr>\n",
       "    <tr>\n",
       "      <th>1024</th>\n",
       "      <td>0.973700</td>\n",
       "      <td>0.085918</td>\n",
       "      <td>0.041534</td>\n",
       "      <td>0.9868</td>\n",
       "      <td>18.240821</td>\n",
       "    </tr>\n",
       "  </tbody>\n",
       "</table>\n",
       "</div>\n",
       "      <button class=\"colab-df-convert\" onclick=\"convertToInteractive('df-45a6926f-f271-43c7-8a52-862b6ff89067')\"\n",
       "              title=\"Convert this dataframe to an interactive table.\"\n",
       "              style=\"display:none;\">\n",
       "        \n",
       "  <svg xmlns=\"http://www.w3.org/2000/svg\" height=\"24px\"viewBox=\"0 0 24 24\"\n",
       "       width=\"24px\">\n",
       "    <path d=\"M0 0h24v24H0V0z\" fill=\"none\"/>\n",
       "    <path d=\"M18.56 5.44l.94 2.06.94-2.06 2.06-.94-2.06-.94-.94-2.06-.94 2.06-2.06.94zm-11 1L8.5 8.5l.94-2.06 2.06-.94-2.06-.94L8.5 2.5l-.94 2.06-2.06.94zm10 10l.94 2.06.94-2.06 2.06-.94-2.06-.94-.94-2.06-.94 2.06-2.06.94z\"/><path d=\"M17.41 7.96l-1.37-1.37c-.4-.4-.92-.59-1.43-.59-.52 0-1.04.2-1.43.59L10.3 9.45l-7.72 7.72c-.78.78-.78 2.05 0 2.83L4 21.41c.39.39.9.59 1.41.59.51 0 1.02-.2 1.41-.59l7.78-7.78 2.81-2.81c.8-.78.8-2.07 0-2.86zM5.41 20L4 18.59l7.72-7.72 1.47 1.35L5.41 20z\"/>\n",
       "  </svg>\n",
       "      </button>\n",
       "      \n",
       "  <style>\n",
       "    .colab-df-container {\n",
       "      display:flex;\n",
       "      flex-wrap:wrap;\n",
       "      gap: 12px;\n",
       "    }\n",
       "\n",
       "    .colab-df-convert {\n",
       "      background-color: #E8F0FE;\n",
       "      border: none;\n",
       "      border-radius: 50%;\n",
       "      cursor: pointer;\n",
       "      display: none;\n",
       "      fill: #1967D2;\n",
       "      height: 32px;\n",
       "      padding: 0 0 0 0;\n",
       "      width: 32px;\n",
       "    }\n",
       "\n",
       "    .colab-df-convert:hover {\n",
       "      background-color: #E2EBFA;\n",
       "      box-shadow: 0px 1px 2px rgba(60, 64, 67, 0.3), 0px 1px 3px 1px rgba(60, 64, 67, 0.15);\n",
       "      fill: #174EA6;\n",
       "    }\n",
       "\n",
       "    [theme=dark] .colab-df-convert {\n",
       "      background-color: #3B4455;\n",
       "      fill: #D2E3FC;\n",
       "    }\n",
       "\n",
       "    [theme=dark] .colab-df-convert:hover {\n",
       "      background-color: #434B5C;\n",
       "      box-shadow: 0px 1px 3px 1px rgba(0, 0, 0, 0.15);\n",
       "      filter: drop-shadow(0px 1px 2px rgba(0, 0, 0, 0.3));\n",
       "      fill: #FFFFFF;\n",
       "    }\n",
       "  </style>\n",
       "\n",
       "      <script>\n",
       "        const buttonEl =\n",
       "          document.querySelector('#df-45a6926f-f271-43c7-8a52-862b6ff89067 button.colab-df-convert');\n",
       "        buttonEl.style.display =\n",
       "          google.colab.kernel.accessAllowed ? 'block' : 'none';\n",
       "\n",
       "        async function convertToInteractive(key) {\n",
       "          const element = document.querySelector('#df-45a6926f-f271-43c7-8a52-862b6ff89067');\n",
       "          const dataTable =\n",
       "            await google.colab.kernel.invokeFunction('convertToInteractive',\n",
       "                                                     [key], {});\n",
       "          if (!dataTable) return;\n",
       "\n",
       "          const docLinkHtml = 'Like what you see? Visit the ' +\n",
       "            '<a target=\"_blank\" href=https://colab.research.google.com/notebooks/data_table.ipynb>data table notebook</a>'\n",
       "            + ' to learn more about interactive tables.';\n",
       "          element.innerHTML = '';\n",
       "          dataTable['output_type'] = 'display_data';\n",
       "          await google.colab.output.renderOutput(dataTable, element);\n",
       "          const docLink = document.createElement('div');\n",
       "          docLink.innerHTML = docLinkHtml;\n",
       "          element.appendChild(docLink);\n",
       "        }\n",
       "      </script>\n",
       "    </div>\n",
       "  </div>\n",
       "  "
      ],
      "text/plain": [
       "      accuracy      loss  val_loss  val_acc    seconds\n",
       "128   0.983400  0.052600  0.028206   0.9913  84.098077\n",
       "256   0.981150  0.060010  0.032532   0.9893  45.032599\n",
       "384   0.980783  0.059718  0.033043   0.9906  32.888604\n",
       "512   0.978850  0.071494  0.032898   0.9891  27.611130\n",
       "640   0.977200  0.073718  0.037300   0.9876  25.504067\n",
       "768   0.975933  0.078654  0.038223   0.9877  22.063627\n",
       "896   0.975383  0.078621  0.037384   0.9880  19.729057\n",
       "1024  0.973700  0.085918  0.041534   0.9868  18.240821"
      ]
     },
     "execution_count": 149,
     "metadata": {},
     "output_type": "execute_result"
    }
   ],
   "source": [
    "\n",
    "df = pd.DataFrame(data={'accuracy': accuracy, 'loss': loss, 'val_loss': val_loss, 'val_acc': val_acc, 'seconds': seconds}, index=batch_size)\n",
    "df"
   ]
  },
  {
   "cell_type": "code",
   "execution_count": null,
   "metadata": {
    "id": "nvOI0842sbJg"
   },
   "outputs": [],
   "source": [
    "df.to_csv('TPU_basic.csv', index=False)"
   ]
  },
  {
   "cell_type": "markdown",
   "metadata": {
    "id": "QGof6K46zXfq"
   },
   "source": [
    "# Benchmarks \n",
    "\n",
    "Note that TPU setup takes some time when compiling the model and distributing the data in the clusters, so the first epoch will take alonger time. I only reported the time for the later epochs. I calculated the average time accross different epochs."
   ]
  },
  {
   "cell_type": "markdown",
   "metadata": {
    "id": "4cbKs72g00sQ"
   },
   "source": [
    "### Epoch Time ($s$)"
   ]
  },
  {
   "cell_type": "markdown",
   "metadata": {
    "id": "QNh64VMDz1Ks"
   },
   "source": [
    "$$\\left[\\begin{array}{c|c|c}  \n",
    " \\textbf{Batch Size} & \\textbf{GPU} & \\textbf{TPU} \\\\\n",
    " 256 & 6s & 6s\\\\  \n",
    " 512 & 5s & 3s\\\\\n",
    " 1024 & 4s & 2s\\\\\n",
    "\\end{array}\\right]$$"
   ]
  },
  {
   "cell_type": "markdown",
   "metadata": {
    "id": "Q8eMm1GD1Mu5"
   },
   "source": [
    "### Step Time ($\\mu s$)"
   ]
  },
  {
   "cell_type": "markdown",
   "metadata": {
    "id": "q1hElmjr05Ah"
   },
   "source": [
    "$$\\left[\\begin{array}{c|c|c}  \n",
    " \\textbf{Batch Size} & \\textbf{GPU} & \\textbf{TPU} \\\\\n",
    " 256 & 94 \\mu s & 97 \\mu s\\\\  \n",
    " 512 & 82 \\mu  s& 58 \\mu s \\\\\n",
    " 1024 & 79 \\mu s & 37 \\mu s\\\\\n",
    "\\end{array}\\right]$$"
   ]
  },
  {
   "cell_type": "markdown",
   "metadata": {
    "id": "J6eOKfyW38rN"
   },
   "source": [
    "# References\n",
    "\n",
    "\n",
    "\n",
    "*   https://qiita.com/koshian2/items/25a6341c035e8a260a01\n",
    "*   https://medium.com/tensorflow/hello-deep-learning-fashion-mnist-with-keras-50fcff8cd74a\n",
    "*   https://blog.riseml.com/benchmarking-googles-new-tpuv2-121c03b71384\n",
    "*   https://cloudplatform.googleblog.com/2018/02/Cloud-TPU-machine-learning-accelerators-now-available-in-beta.html\n",
    "\n"
   ]
  }
 ],
 "metadata": {
  "accelerator": "GPU",
  "colab": {
   "name": "Copy of GPUvsTPU.ipynb",
   "provenance": [
    {
     "file_id": "https://github.com/zaidalyafeai/Notebooks/blob/master/GPUvsTPU.ipynb",
     "timestamp": 1651367008049
    }
   ]
  },
  "kernelspec": {
   "display_name": "Python 3 (ipykernel)",
   "language": "python",
   "name": "python3"
  },
  "language_info": {
   "codemirror_mode": {
    "name": "ipython",
    "version": 3
   },
   "file_extension": ".py",
   "mimetype": "text/x-python",
   "name": "python",
   "nbconvert_exporter": "python",
   "pygments_lexer": "ipython3",
   "version": "3.9.12"
  }
 },
 "nbformat": 4,
 "nbformat_minor": 4
}
